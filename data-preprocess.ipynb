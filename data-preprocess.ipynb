{
 "cells": [
  {
   "cell_type": "markdown",
   "id": "a913d36d",
   "metadata": {},
   "source": [
    "# Data Preprocess\n",
    "Produces an artifact at `artifacts/message.json` for the downstream `train.ipynb` step.\n",
    "\n",
    "This file will be collected via Elyra node \"Output files\" and pulled into the next node via \"File dependencies\".\n"
   ]
  },
  {
   "cell_type": "code",
   "execution_count": null,
   "id": "5364c830",
   "metadata": {},
   "outputs": [],
   "source": [
    "from pathlib import Path\n",
    "import json\n",
    "import logging\n",
    "import os\n",
    "import socket\n",
    "import getpass\n",
    "from datetime import datetime, timezone\n",
    "\n",
    "# Configure logging\n",
    "logger = logging.getLogger(\"data_preprocess\")\n",
    "if not logger.handlers:\n",
    "    handler = logging.StreamHandler()\n",
    "    handler.setFormatter(logging.Formatter(\"%(asctime)s %(levelname)s [%(name)s] %(message)s\"))\n",
    "    logger.addHandler(handler)\n",
    "logger.setLevel(os.getenv(\"LOG_LEVEL\", \"INFO\"))\n",
    "\n",
    "# Prepare artifact directory\n",
    "artifact_dir = Path(\"artifacts\")\n",
    "artifact_dir.mkdir(parents=True, exist_ok=True)\n",
    "\n",
    "# Build payload\n",
    "message = os.getenv(\"PREPROCESS_MESSAGE\", \"hello from data-preprocess\")\n",
    "payload = {\n",
    "    \"message\": message,\n",
    "    \"created_at\": datetime.now(timezone.utc).isoformat(),\n",
    "    \"hostname\": socket.gethostname(),\n",
    "    \"user\": getpass.getuser(),\n",
    "}\n",
    "\n",
    "# Write payload to JSON artifact\n",
    "output_path = artifact_dir / \"message.json\"\n",
    "with output_path.open(\"w\", encoding=\"utf-8\") as f:\n",
    "    json.dump(payload, f, ensure_ascii=False, indent=2)\n",
    "\n",
    "# Log details\n",
    "logger.info(f\"CWD: {Path.cwd()}\")\n",
    "logger.info(f\"Wrote artifact: {output_path} size={output_path.stat().st_size} bytes\")\n",
    "logger.info(f\"Payload keys: {list(payload.keys())}\")\n",
    "logger.info(f\"Payload preview: {payload}\")\n",
    "logger.info(f\"artifacts/ contents: {list(artifact_dir.iterdir())}\")\n"
   ]
  },
  {
   "cell_type": "markdown",
   "id": "796efa38",
   "metadata": {},
   "source": [
    "## Elyra node configuration (summary)\n",
    "- Output files (glob): `artifacts/message.json`\n",
    "- Environment variable (optional): set `PREPROCESS_MESSAGE` for a custom message\n",
    "\n"
   ]
  }
 ],
 "metadata": {
  "language_info": {
   "name": "python"
  }
 },
 "nbformat": 4,
 "nbformat_minor": 5
}
