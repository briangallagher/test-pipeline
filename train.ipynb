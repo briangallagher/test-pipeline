{
 "cells": [
  {
   "cell_type": "markdown",
   "id": "016df592",
   "metadata": {},
   "source": [
    "# Train\n",
    "Consumes `artifacts/message.json` produced by the upstream `data-preprocess.ipynb` step and logs its contents.\n"
   ]
  },
  {
   "cell_type": "code",
   "execution_count": null,
   "id": "8720cb2e",
   "metadata": {},
   "outputs": [],
   "source": [
    "from pathlib import Path\n",
    "import json\n",
    "import logging\n",
    "import os\n",
    "\n",
    "# Configure logging\n",
    "logger = logging.getLogger(\"train\")\n",
    "if not logger.handlers:\n",
    "    handler = logging.StreamHandler()\n",
    "    handler.setFormatter(logging.Formatter(\"%(asctime)s %(levelname)s [%(name)s] %(message)s\"))\n",
    "    logger.addHandler(handler)\n",
    "logger.setLevel(os.getenv(\"LOG_LEVEL\", \"INFO\"))\n",
    "\n",
    "artifact_path = Path(\"artifacts/message.json\")\n",
    "\n",
    "if not artifact_path.exists():\n",
    "    logger.error(f\"Artifact not found at {artifact_path}. Ensure Elyra 'File dependencies' includes artifacts/message.json\")\n",
    "    raise SystemExit(2)\n",
    "\n",
    "with artifact_path.open(\"r\", encoding=\"utf-8\") as f:\n",
    "    payload = json.load(f)\n",
    "\n",
    "logger.info(f\"Loaded artifact from {artifact_path}\")\n",
    "logger.info(f\"Payload keys: {list(payload.keys())}\")\n",
    "logger.info(f\"Message: {payload.get('message')}\")\n",
    "logger.info(f\"Created at: {payload.get('created_at')}\")\n",
    "logger.info(f\"Upstream host: {payload.get('hostname')}\")\n",
    "logger.info(f\"Upstream user: {payload.get('user')}\")\n",
    "\n",
    "# Example: use the message to parametrize the run\n",
    "if payload.get(\"message\"):\n",
    "    logger.info(\"Training starts with upstream message acknowledged.\")\n",
    "else:\n",
    "    logger.warning(\"No message provided; proceeding with defaults.\")\n"
   ]
  },
  {
   "cell_type": "markdown",
   "id": "ec8a88b7",
   "metadata": {},
   "source": [
    "## Elyra node configuration (summary)\n",
    "- File dependencies: `artifacts/message.json`\n"
   ]
  },
  {
   "cell_type": "code",
   "execution_count": null,
   "id": "52999ff5",
   "metadata": {},
   "outputs": [],
   "source": [
    "# Optional: demonstrate pip installs if running in a clean image\n",
    "try:\n",
    "    import orjson  # lightweight, faster JSON (optional)\n",
    "    _has_orjson = True\n",
    "except Exception:\n",
    "    _has_orjson = False\n",
    "    import subprocess, sys\n",
    "    subprocess.run([sys.executable, \"-m\", \"pip\", \"install\", \"--no-input\", \"orjson==3.*\"], check=False)\n",
    "    try:\n",
    "        import orjson\n",
    "        _has_orjson = True\n",
    "    except Exception:\n",
    "        pass\n",
    "\n",
    "if _has_orjson:\n",
    "    logger.info(\"orjson available; not required, just a speed-up.\")\n",
    "else:\n",
    "    logger.info(\"orjson not available; using built-in json.\")\n"
   ]
  }
 ],
 "metadata": {
  "language_info": {
   "name": "python"
  }
 },
 "nbformat": 4,
 "nbformat_minor": 5
}
